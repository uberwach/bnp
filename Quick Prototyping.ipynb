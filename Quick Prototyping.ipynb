{
 "cells": [
  {
   "cell_type": "code",
   "execution_count": null,
   "metadata": {
    "collapsed": true
   },
   "outputs": [],
   "source": [
    "SEED = 42\n",
    "\n",
    "CV_FOLDS = 5 # number of folds used when there is CV\n",
    "NUM_CPUS = 8 # use this many cpus (leave one if you want to surf during computation)\n",
    "\n",
    "LEARNING_CURVE_SIZE = 10000 # build training curve up to this many samples\n",
    "\n",
    "INCLUDE_CATEGORICAL = True # whether to include the categorical features"
   ]
  },
  {
   "cell_type": "code",
   "execution_count": null,
   "metadata": {
    "collapsed": false
   },
   "outputs": [],
   "source": [
    "import numpy as np\n",
    "import pandas as pd\n",
    "import matplotlib.pyplot as plt\n",
    "%matplotlib inline\n",
    "import extraction\n",
    "import util\n",
    "from time import time\n",
    "\n",
    "\n",
    "X, y, X_holdout, ids = extraction.prepare_data(\"./data/\", drop_categorical=(not INCLUDE_CATEGORICAL))\n",
    "\n",
    "def create_submission(clf, submission_name):\n",
    "    file_name = submission_name + \"_{}.csv\".format(time())\n",
    "    util.note_submission_info(\"Model: {}\".format(clf), file_name)\n",
    "    util.build_submission(clf, X_holdout, ids, file_name)\n",
    "    print \"Written {}\".format(file_name)"
   ]
  },
  {
   "cell_type": "code",
   "execution_count": null,
   "metadata": {
    "collapsed": false
   },
   "outputs": [],
   "source": [
    "print \"{} features, {} data points\".format(X.shape[1], X.shape[0])"
   ]
  },
  {
   "cell_type": "code",
   "execution_count": null,
   "metadata": {
    "collapsed": true
   },
   "outputs": [],
   "source": [
    "# Quickfix: X_holdout is still broken (NaNs)!\n",
    "import scipy.stats as stats\n",
    "import numpy as np\n",
    "\n",
    "col_mean = stats.nanmean(X_holdout,axis=0)\n",
    "inds = np.where(np.isnan(X_holdout))\n",
    "X_holdout[inds]=np.take(col_mean,inds[1])"
   ]
  },
  {
   "cell_type": "code",
   "execution_count": null,
   "metadata": {
    "collapsed": true
   },
   "outputs": [],
   "source": [
    "from sklearn import metrics, cross_validation\n",
    "\n",
    "def report_metrics(clf, X, y):\n",
    "    log_scores = cross_validation.cross_val_score(clf, X, y, scoring=\"log_loss\", cv=CV_FOLDS, n_jobs=NUM_CPUS)\n",
    "    print \"Log loss: %0.3f (+- %0.3f)\" % (log_scores.mean(), log_scores.std())"
   ]
  },
  {
   "cell_type": "code",
   "execution_count": null,
   "metadata": {
    "collapsed": false
   },
   "outputs": [],
   "source": [
    "# X_train, X_test, y_train, y_test = cross_validation.train_test_split(X, y, test_size=0.2, random_state=SEED)"
   ]
  },
  {
   "cell_type": "markdown",
   "metadata": {
    "collapsed": true
   },
   "source": [
    "## XGBoost"
   ]
  },
  {
   "cell_type": "code",
   "execution_count": null,
   "metadata": {
    "collapsed": true
   },
   "outputs": [],
   "source": [
    "import xgboost as xgb"
   ]
  },
  {
   "cell_type": "code",
   "execution_count": null,
   "metadata": {
    "collapsed": false
   },
   "outputs": [],
   "source": [
    "xgb_clf = xgb.XGBClassifier(n_estimators=50, \n",
    "                            learning_rate=0.01, \n",
    "                            max_depth=7, \n",
    "                            subsample=0.8, \n",
    "                            colsample_bytree=0.68,\n",
    "                            #reg_lambda=1\n",
    "                            nthread=NUM_CPUS,\n",
    "                            seed=SEED)\n",
    "xgb_clf.fit(X, y)"
   ]
  },
  {
   "cell_type": "code",
   "execution_count": null,
   "metadata": {
    "collapsed": false
   },
   "outputs": [],
   "source": [
    "# report_metrics(xgb_clf, X, y) # does not work well with xgb\n",
    "# create_submission(xgb_clf, \"xgb\")"
   ]
  },
  {
   "cell_type": "code",
   "execution_count": null,
   "metadata": {
    "collapsed": false
   },
   "outputs": [],
   "source": [
    "fig = learning_curve.plot_learning_curve(title=\"Learning curve for XGBoost\", \n",
    "                                   estimator=gbt_clf, \n",
    "                                   X=X[:LEARNING_CURVE_SIZE], \n",
    "                                   y=y[:LEARNING_CURVE_SIZE], \n",
    "                                   n_jobs=NUM_CPUS, \n",
    "                                   cv=CV_FOLDS, scoring=\"log_loss\")\n",
    "fig.show()"
   ]
  },
  {
   "cell_type": "code",
   "execution_count": null,
   "metadata": {
    "collapsed": true
   },
   "outputs": [],
   "source": [
    "xgtrain = xgb.DMatrix(X, y)\n",
    "xgtest = xgb.DMatrix(X_holdout)\n",
    "\n",
    "xgboost_params = {\n",
    "   \"objective\": \"binary:logistic\",\n",
    "   \"booster\": \"gbtree\",\n",
    "   \"eval_metric\": \"logloss\",\n",
    "   \"eta\": 0.01, # 0.06, #0.01,\n",
    "   #\"min_child_weight\": 240,\n",
    "   \"subsample\": 0.75,\n",
    "   \"colsample_bytree\": 0.68,\n",
    "   \"max_depth\": 7\n",
    "}\n",
    "\n",
    "xgb_clf_2 = xgb.train(xgboost_params,xgtrain,\n",
    "                    num_boost_round=50,\n",
    "                    verbose_eval=True,\n",
    "                    maximize=False)"
   ]
  },
  {
   "cell_type": "code",
   "execution_count": null,
   "metadata": {
    "collapsed": true
   },
   "outputs": [],
   "source": [
    "test_preds = clf.predict(xgtest, ntree_limit=xgb_clf_2.best_iteration)"
   ]
  }
 ],
 "metadata": {
  "kernelspec": {
   "display_name": "Python 2",
   "language": "python",
   "name": "python2"
  },
  "language_info": {
   "codemirror_mode": {
    "name": "ipython",
    "version": 2
   },
   "file_extension": ".py",
   "mimetype": "text/x-python",
   "name": "python",
   "nbconvert_exporter": "python",
   "pygments_lexer": "ipython2",
   "version": "2.7.10"
  }
 },
 "nbformat": 4,
 "nbformat_minor": 0
}
